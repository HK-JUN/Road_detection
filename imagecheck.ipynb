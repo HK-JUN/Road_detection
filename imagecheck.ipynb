{
 "cells": [
  {
   "cell_type": "code",
   "execution_count": 2,
   "metadata": {},
   "outputs": [],
   "source": [
    "import cv2\n",
    "import numpy as np\n",
    "from scipy.ndimage import median_filter\n",
    "from skimage.restoration import estimate_sigma\n",
    "from skimage.util import random_noise"
   ]
  },
  {
   "cell_type": "code",
   "execution_count": 4,
   "metadata": {},
   "outputs": [
    {
     "name": "stdout",
     "output_type": "stream",
     "text": [
      "patH: ['/home/jhpark/road/dataset/imagetest/Top Noisy Images_image_10.png', '/home/jhpark/road/dataset/imagetest/Top Noisy Images_image_8.png', '/home/jhpark/road/dataset/imagetest/Top Noisy Images_image_4.png', '/home/jhpark/road/dataset/imagetest/Top Noisy Images_image_2.png', '/home/jhpark/road/dataset/imagetest/Top Noisy Images_image_11.png', '/home/jhpark/road/dataset/imagetest/Top Noisy Images_image_13.png', '/home/jhpark/road/dataset/imagetest/Top Noisy Images_image_1.png', '/home/jhpark/road/dataset/imagetest/Top Noisy Images_image_6.png', '/home/jhpark/road/dataset/imagetest/Top Noisy Images_image_7.png', '/home/jhpark/road/dataset/imagetest/Top Noisy Images_image_14.png', '/home/jhpark/road/dataset/imagetest/Top Noisy Images_image_9.png', '/home/jhpark/road/dataset/imagetest/Top Noisy Images_image_12.png', '/home/jhpark/road/dataset/imagetest/Top Noisy Images_image_5.png', '/home/jhpark/road/dataset/imagetest/Top Noisy Images_image_15.png', '/home/jhpark/road/dataset/imagetest/Top Noisy Images_image_3.png']\n"
     ]
    }
   ],
   "source": [
    "import cv2\n",
    "import numpy as np\n",
    "from scipy.ndimage import median_filter\n",
    "from skimage.restoration import estimate_sigma\n",
    "from skimage.util import random_noise\n",
    "import glob\n",
    "\n",
    "def preprocess_image(image_path):\n",
    "    # Load the image\n",
    "    image = cv2.imread(image_path)\n",
    "    if image is None:\n",
    "        raise ValueError(f\"Could not open or find the image: {image_path}\")\n",
    "    \n",
    "    if len(image.shape) == 2:  # Grayscale image\n",
    "        image = preprocess_channel(image)\n",
    "    else:  # Color image\n",
    "        # Split the image into R, G, B channels and preprocess each channel\n",
    "        channels = cv2.split(image)\n",
    "        processed_channels = [preprocess_channel(channel) for channel in channels]\n",
    "        image = cv2.merge(processed_channels)\n",
    "\n",
    "    return image\n",
    "\n",
    "def preprocess_channel(channel):\n",
    "    \n",
    "    channel = cv2.GaussianBlur(channel, (5, 5), 0)\n",
    "    # Apply median filter to handle salt and pepper noise\n",
    "    channel = median_filter(channel, size=3)\n",
    "    # Apply horizontal median filter to handle stripe noise\n",
    "    channel = median_filter(channel, size=(1, 5))\n",
    "\n",
    "    return channel\n",
    "\n",
    "# Example usage\n",
    "image_paths = glob.glob(\"/home/jhpark/road/dataset/imagetest/*.png\")\n",
    "print(\"patH:\",image_paths)\n",
    "for i,img in enumerate(image_paths):\n",
    "    processed_image = preprocess_image(img)\n",
    "    cv2.imwrite(f\"/home/jhpark/road/dataset/imagetest/processed_{i}.jpg\", processed_image)\n"
   ]
  }
 ],
 "metadata": {
  "kernelspec": {
   "display_name": "Python 3",
   "language": "python",
   "name": "python3"
  },
  "language_info": {
   "codemirror_mode": {
    "name": "ipython",
    "version": 3
   },
   "file_extension": ".py",
   "mimetype": "text/x-python",
   "name": "python",
   "nbconvert_exporter": "python",
   "pygments_lexer": "ipython3",
   "version": "3.8.0"
  }
 },
 "nbformat": 4,
 "nbformat_minor": 2
}
